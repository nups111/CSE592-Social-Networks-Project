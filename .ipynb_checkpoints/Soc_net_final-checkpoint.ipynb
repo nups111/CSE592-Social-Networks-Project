{
 "cells": [
  {
   "cell_type": "code",
   "execution_count": 11,
   "metadata": {
    "collapsed": false
   },
   "outputs": [],
   "source": [
    "import pandas as pd\n",
    "import numpy as np\n",
    "import matplotlib.pyplot as plt\n",
    "import csv\n",
    "import re\n",
    "import networkx as nx\n",
    "import operator\n",
    "import random\n",
    "import math\n",
    "import scipy\n",
    "%matplotlib inline"
   ]
  },
  {
   "cell_type": "code",
   "execution_count": 2,
   "metadata": {
    "collapsed": false
   },
   "outputs": [],
   "source": [
    "train_DF = pd.read_csv(\"/home/wildgoose/Desktop/Social Network Project/newdata.csv\", delimiter = \"\\s\")\n",
    "#print train_DF"
   ]
  },
  {
   "cell_type": "code",
   "execution_count": 3,
   "metadata": {
    "collapsed": false
   },
   "outputs": [],
   "source": [
    "train_DF.columns = [\"From_node\", \"To_node\"]"
   ]
  },
  {
   "cell_type": "code",
   "execution_count": 5,
   "metadata": {
    "collapsed": false
   },
   "outputs": [],
   "source": [
    "def create_graph():\n",
    "    gph = []\n",
    "    for i in range(len(trainDF)):\n",
    "        node1 = trainDF.values[i][0]\n",
    "        node2 = trainDF.values[i][1]\n",
    "        gph.append([node1,node2])\n",
    "    return gph        "
   ]
  },
  {
   "cell_type": "code",
   "execution_count": 6,
   "metadata": {
    "collapsed": false
   },
   "outputs": [],
   "source": [
    "#General function to draw graph\n",
    "def draw_graph(graph, labels=None, graph_layout='shell',\n",
    "               node_size=5000, node_color='red', node_alpha=0.5,\n",
    "               node_text_size=30,\n",
    "               edge_color='blue', edge_alpha=0.3, edge_tickness=0.4,\n",
    "               edge_text_pos=0.3,\n",
    "               text_font='sans-serif'):\n",
    "    fig = plt.figure(figsize=(100,50))\n",
    "    G=nx.Graph()\n",
    "    for edge in graph:\n",
    "        G.add_edge(edge[0], edge[1])\n",
    "    if graph_layout == 'spectral':\n",
    "        graph_pos=nx.spectral_layout(G)\n",
    "    else :\n",
    "        graph_pos=nx.random_layout(G)\n",
    "    nx.draw_networkx_nodes(G,graph_pos,node_size=node_size, \n",
    "                               alpha=node_alpha, node_color=node_color)\n",
    "    nx.draw_networkx_edges(G,graph_pos,width=edge_tickness,\n",
    "                               alpha=edge_alpha,edge_color=edge_color)\n",
    "    if not graph_layout == 'spectral':\n",
    "        nx.draw_networkx_labels(G, graph_pos,font_size=node_text_size,\n",
    "                            font_family=text_font)\n",
    "    plt.show()"
   ]
  },
  {
   "cell_type": "code",
   "execution_count": 7,
   "metadata": {
    "collapsed": false
   },
   "outputs": [],
   "source": [
    "ego_network = create_graph()\n",
    "G=nx.DiGraph()\n",
    "#print ego_network\n",
    "for edge in ego_network:\n",
    "    #print edge[0], edge[1]\n",
    "    G.add_edge(edge[0], edge[1])\n",
    "#print G\n",
    "#draw_graph(ego_network)"
   ]
  },
  {
   "cell_type": "code",
   "execution_count": null,
   "metadata": {
    "collapsed": false
   },
   "outputs": [],
   "source": [
    "#for i in G.neighbors(0):\n",
    " #   print i, G.neighbors(i)\n",
    "    \n",
    "#print G.nodes()"
   ]
  },
  {
   "cell_type": "code",
   "execution_count": null,
   "metadata": {
    "collapsed": false
   },
   "outputs": [],
   "source": [
    "#for i in G.nodes():\n",
    "# p = {}\n",
    "# print len(G.neighbors(0))\n",
    "# for i in G.neighbors(0):\n",
    "#     p.update({i:1})\n",
    "# print p.keys()\n",
    "# for i in G.neighbors(5):\n",
    "#     print i\n",
    "#     if i not in G.neighbors(0) and i !=0:\n",
    "#         print \"Not in p.keys: \" + str(i)"
   ]
  },
  {
   "cell_type": "code",
   "execution_count": 8,
   "metadata": {
    "collapsed": false
   },
   "outputs": [],
   "source": [
    "def random_predictions():\n",
    "    for i in G.nodes():\n",
    "        q={}\n",
    "        for j in G.neighbors(i):\n",
    "            for k in G.neighbors(j):\n",
    "                if k not in G.neighbors(i) and k!= i:\n",
    "                    if k in q.keys():\n",
    "                        q[k] += 1\n",
    "                    else:\n",
    "                        q[k]=0\n",
    "        print i\n",
    "        lst = []\n",
    "        for key, value in q.iteritems():\n",
    "            if value >=100:\n",
    "                lst.append(key)\n",
    "        print lst"
   ]
  },
  {
   "cell_type": "code",
   "execution_count": null,
   "metadata": {
    "collapsed": false
   },
   "outputs": [],
   "source": [
    "#random_predictions()"
   ]
  },
  {
   "cell_type": "code",
   "execution_count": 9,
   "metadata": {
    "collapsed": false
   },
   "outputs": [],
   "source": [
    "# def adj_matrix(G):\n",
    "#     adj_values = G.degree().items()\n",
    "#     degrees = sorted(degrees, key=lambda x: x[0])\n",
    "#     degrees = [d[1] for d in degrees]\n",
    "#     return diag(degrees)\n",
    "adj_matrix = nx.to_scipy_sparse_matrix(G)\n",
    "adj_matrix_formatted = adj_matrix.todense()"
   ]
  },
  {
   "cell_type": "code",
   "execution_count": 10,
   "metadata": {
    "collapsed": false
   },
   "outputs": [
    {
     "ename": "NameError",
     "evalue": "global name 'diag' is not defined",
     "output_type": "error",
     "traceback": [
      "\u001b[1;31m---------------------------------------------------------------------------\u001b[0m",
      "\u001b[1;31mNameError\u001b[0m                                 Traceback (most recent call last)",
      "\u001b[1;32m<ipython-input-10-392c3d387721>\u001b[0m in \u001b[0;36m<module>\u001b[1;34m()\u001b[0m\n\u001b[0;32m      5\u001b[0m     \u001b[1;32mreturn\u001b[0m \u001b[0mdiag\u001b[0m\u001b[1;33m(\u001b[0m\u001b[0mdegrees\u001b[0m\u001b[1;33m)\u001b[0m\u001b[1;33m\u001b[0m\u001b[0m\n\u001b[0;32m      6\u001b[0m \u001b[1;33m\u001b[0m\u001b[0m\n\u001b[1;32m----> 7\u001b[1;33m \u001b[0mdegree\u001b[0m \u001b[1;33m=\u001b[0m \u001b[0mdegree_matrix\u001b[0m\u001b[1;33m(\u001b[0m\u001b[0mG\u001b[0m\u001b[1;33m)\u001b[0m\u001b[1;33m\u001b[0m\u001b[0m\n\u001b[0m\u001b[0;32m      8\u001b[0m \u001b[1;32mprint\u001b[0m \u001b[1;34m'Degree matrix:\\n'\u001b[0m\u001b[1;33m,\u001b[0m \u001b[0mdegree\u001b[0m\u001b[1;33m\u001b[0m\u001b[0m\n",
      "\u001b[1;32m<ipython-input-10-392c3d387721>\u001b[0m in \u001b[0;36mdegree_matrix\u001b[1;34m(G)\u001b[0m\n\u001b[0;32m      3\u001b[0m     \u001b[0mdegrees\u001b[0m \u001b[1;33m=\u001b[0m \u001b[0msorted\u001b[0m\u001b[1;33m(\u001b[0m\u001b[0mdegrees\u001b[0m\u001b[1;33m,\u001b[0m \u001b[0mkey\u001b[0m\u001b[1;33m=\u001b[0m\u001b[1;32mlambda\u001b[0m \u001b[0mx\u001b[0m\u001b[1;33m:\u001b[0m \u001b[0mx\u001b[0m\u001b[1;33m[\u001b[0m\u001b[1;36m0\u001b[0m\u001b[1;33m]\u001b[0m\u001b[1;33m)\u001b[0m\u001b[1;33m\u001b[0m\u001b[0m\n\u001b[0;32m      4\u001b[0m     \u001b[0mdegrees\u001b[0m \u001b[1;33m=\u001b[0m \u001b[1;33m[\u001b[0m\u001b[0md\u001b[0m\u001b[1;33m[\u001b[0m\u001b[1;36m1\u001b[0m\u001b[1;33m]\u001b[0m \u001b[1;32mfor\u001b[0m \u001b[0md\u001b[0m \u001b[1;32min\u001b[0m \u001b[0mdegrees\u001b[0m\u001b[1;33m]\u001b[0m\u001b[1;33m\u001b[0m\u001b[0m\n\u001b[1;32m----> 5\u001b[1;33m     \u001b[1;32mreturn\u001b[0m \u001b[0mdiag\u001b[0m\u001b[1;33m(\u001b[0m\u001b[0mdegrees\u001b[0m\u001b[1;33m)\u001b[0m\u001b[1;33m\u001b[0m\u001b[0m\n\u001b[0m\u001b[0;32m      6\u001b[0m \u001b[1;33m\u001b[0m\u001b[0m\n\u001b[0;32m      7\u001b[0m \u001b[0mdegree\u001b[0m \u001b[1;33m=\u001b[0m \u001b[0mdegree_matrix\u001b[0m\u001b[1;33m(\u001b[0m\u001b[0mG\u001b[0m\u001b[1;33m)\u001b[0m\u001b[1;33m\u001b[0m\u001b[0m\n",
      "\u001b[1;31mNameError\u001b[0m: global name 'diag' is not defined"
     ]
    }
   ],
   "source": [
    "def degree_matrix(G):\n",
    "    degrees = G.degree().items()\n",
    "    degrees = sorted(degrees, key=lambda x: x[0])\n",
    "    degrees = [d[1] for d in degrees]\n",
    "    return diag(degrees)\n",
    "\n",
    "degree = degree_matrix(G)\n",
    "print 'Degree matrix:\\n', degree"
   ]
  },
  {
   "cell_type": "code",
   "execution_count": 68,
   "metadata": {
    "collapsed": false
   },
   "outputs": [
    {
     "name": "stdout",
     "output_type": "stream",
     "text": [
      "Laplacian matrix:\n",
      "[[546   0   0 ...,   0   0   0]\n",
      " [  0 611   0 ...,   0   0   0]\n",
      " [  0   0 225 ...,   0   0   0]\n",
      " ..., \n",
      " [  0   0   0 ...,   1   0   0]\n",
      " [  0   0   0 ...,   0   9   0]\n",
      " [  0   0   0 ...,   0   0   3]]\n"
     ]
    }
   ],
   "source": [
    "def laplacian_matrix(G):\n",
    "    return degree_matrix(G) - adj_matrix_formatted\n",
    "laplacian = laplacian_matrix(G)\n",
    "print 'Laplacian matrix:\\n', laplacian"
   ]
  },
  {
   "cell_type": "code",
   "execution_count": 70,
   "metadata": {
    "collapsed": false
   },
   "outputs": [
    {
     "name": "stdout",
     "output_type": "stream",
     "text": [
      "Normalised Laplacian matrix:\n",
      "[[ 1.  0.  0. ...,  0.  0.  0.]\n",
      " [ 0.  1.  0. ...,  0.  0.  0.]\n",
      " [ 0.  0.  1. ...,  0.  0.  0.]\n",
      " ..., \n",
      " [ 0.  0.  0. ...,  1.  0.  0.]\n",
      " [ 0.  0.  0. ...,  0.  1.  0.]\n",
      " [ 0.  0.  0. ...,  0.  0.  1.]]\n"
     ]
    }
   ],
   "source": [
    "norm_laplacian = nx.normalized_laplacian_matrix(G)\n",
    "norm_laplacian = norm_laplacian.todense()\n",
    "print 'Normalised Laplacian matrix:\\n', norm_laplacian"
   ]
  },
  {
   "cell_type": "code",
   "execution_count": 71,
   "metadata": {
    "collapsed": false
   },
   "outputs": [
    {
     "data": {
      "image/png": "[encoded data removed]",
      "text/plain": [
       "<matplotlib.figure.Figure at 0x7f5951e89ad0>"
      ]
     },
     "metadata": {},
     "output_type": "display_data"
    }
   ],
   "source": [
    "eig_vals, eig_vectors = eigh(norm_laplacian)\n",
    "for i in range(len(eig_vectors)):\n",
    "    plt.scatter(eig_vectors[i,1],eig_vectors[i,2])"
   ]
  },
  {
   "cell_type": "code",
   "execution_count": 74,
   "metadata": {
    "collapsed": false
   },
   "outputs": [],
   "source": [
    "#Drawing a graph to represent the three spectra\n",
    "def create_spectral_graph():\n",
    "    sp_graph = []\n",
    "    for i in range(len(eig_vectors)):\n",
    "        sp_graph.append([eig_vectors[i,1],eig_vectors[i,2]])\n",
    "    return sp_graph"
   ]
  },
  {
   "cell_type": "code",
   "execution_count": 17,
   "metadata": {
    "collapsed": false
   },
   "outputs": [
    {
     "name": "stdout",
     "output_type": "stream",
     "text": [
      "[5, 7, 8, 9, 10, 11, 12, 13, 14, 15, 16, 17, 18, 19, 20, 21, 22, 23, 24, 25, 26, 27, 28, 29, 30, 31, 32, 33, 34, 35, 36, 37, 38, 39, 40, 41, 42, 43, 44, 45, 46, 47, 48, 49, 50, 51, 52, 53, 54, 55, 56, 57, 58, 59, 60, 61, 62, 63, 64, 65, 66, 67, 68, 69, 70, 71, 72, 73, 74, 75, 76, 77, 78, 79, 80, 81, 82, 83, 84, 85, 86, 87, 88, 89, 90, 91, 92, 93, 94, 95, 96, 97, 98, 99, 100, 101, 102, 103, 104, 105, 106, 107, 108, 109, 110, 111, 112, 113, 114, 115, 116, 117, 118, 119, 120, 121, 122, 123, 124, 125, 126, 127, 128, 129, 130, 131, 132, 133, 134, 135, 136, 137, 138, 139, 140, 141, 142, 799]\n",
      "737\n",
      "401\n",
      "550\n",
      "725\n",
      "1\n",
      "726\n",
      "1719\n",
      "849\n",
      "1191\n",
      "1247\n",
      "1164\n"
     ]
    }
   ],
   "source": [
    "personalize = {}\n",
    "for n in G:\n",
    "    if n == 0:\n",
    "        personalize[n] = 1\n",
    "    else:\n",
    "        personalize[n] = random.random()\n",
    "#print personalize\n",
    "p = nx.pagerank_scipy(G, alpha=0.9, personalization=personalize)\n",
    "sorted_x = sorted(p.items(), key=operator.itemgetter(1),reverse = True)\n",
    "#print sorted_x\n",
    "count =0\n",
    "print G[0].keys()\n",
    "for x in sorted_x:\n",
    "    if count > 10:\n",
    "        break\n",
    "    else:\n",
    "        if x[0] not in G[0].keys() and x[0] != 0:\n",
    "            print x[0]\n",
    "            count +=1\n",
    "# count = 0\n",
    "# n=0\n",
    "# for x in G:\n",
    "#     print n,x\n",
    "#     if count > 10:\n",
    "#         break\n",
    "#     else:\n",
    "#         if x not in G[n].keys() and x!=n:\n",
    "#             print x\n",
    "#             count +=1"
   ]
  },
  {
   "cell_type": "code",
   "execution_count": 91,
   "metadata": {
    "collapsed": false
   },
   "outputs": [
    {
     "name": "stdout",
     "output_type": "stream",
     "text": [
      "[18, 737, 135, 726, 1719, 1191, 59, 849, 1164, 0, 19, 143, 12, 918, 1619, 301, 64, 2227, 49, 1401, 44]\n"
     ]
    }
   ],
   "source": [
    "personalize1 = {}\n",
    "for n in G:\n",
    "    if n == 1:\n",
    "        personalize1[n] = 1\n",
    "    else:\n",
    "        personalize1[n] = random.random()\n",
    "#print personalize\n",
    "p1 = nx.pagerank_scipy(G, alpha=0.9, personalization=personalize1)\n",
    "sorted_x1 = sorted(p1.items(), key=operator.itemgetter(1),reverse = True)\n",
    "#print sorted_x\n",
    "count =0\n",
    "#print G[1].keys()\n",
    "lst_pred = []\n",
    "for x in sorted_x1:\n",
    "    if count > 20:\n",
    "        break\n",
    "    else:\n",
    "        if x[0] not in G[1].keys() and x[0] != 1:\n",
    "            #print x[0]\n",
    "            lst_pred.append(x[0])\n",
    "            count +=1\n",
    "print lst_pred\n",
    "# count = 0\n",
    "# n=0\n",
    "# for x in G:\n",
    "#     print n,x\n",
    "#     if count > 10:\n",
    "#         break\n",
    "#     else:\n",
    "#         if x not in G[n].keys() and x!=n:\n",
    "#             print x\n",
    "#             count +=1"
   ]
  },
  {
   "cell_type": "code",
   "execution_count": 92,
   "metadata": {
    "collapsed": false
   },
   "outputs": [],
   "source": [
    "graph_dict = {}\n",
    "for i in G:\n",
    "    graph_dict[i] = G.edge[i]"
   ]
  },
  {
   "cell_type": "code",
   "execution_count": 93,
   "metadata": {
    "collapsed": false
   },
   "outputs": [
    {
     "name": "stdout",
     "output_type": "stream",
     "text": [
      "[1, 2656, 143]\n"
     ]
    }
   ],
   "source": [
    "def bfs(graph, start, end):\n",
    "    # maintain a queue of paths\n",
    "    queue = []\n",
    "    # push the first path into the queue\n",
    "    queue.append([start])\n",
    "    while queue:\n",
    "        # get the first path from the queue\n",
    "        path = queue.pop(0)\n",
    "        # get the last node from the path\n",
    "        node = path[-1]\n",
    "        # path found\n",
    "        if node == end:\n",
    "            return path\n",
    "        # enumerate all adjacent nodes, construct a new path and push it into the queue\n",
    "        for adjacent in graph.get(node, []):\n",
    "            new_path = list(path)\n",
    "            new_path.append(adjacent)\n",
    "            queue.append(new_path)\n",
    "\n",
    "\n",
    "print bfs(graph_dict, 1, 143)"
   ]
  },
  {
   "cell_type": "code",
   "execution_count": 96,
   "metadata": {
    "collapsed": false
   },
   "outputs": [],
   "source": [
    "new_graph_1 = []\n",
    "pth = []\n",
    "#for i in train_DF.values:\n",
    "#    if i[0] == 1:\n",
    "#        new_graph_1.append([i[0],i[1]])\n",
    "for j in lst_pred:\n",
    "    new_graph_1.append([bfs(graph_dict, 1, j)[0],bfs(graph_dict, 1, j)[1]])\n",
    "    new_graph_1.append([bfs(graph_dict, 1, j)[1],bfs(graph_dict, 1, j)[2]])\n",
    "    #print pth\n",
    "#     print pth\n",
    "#             for k in range(1,len(pth)-1):\n",
    "#                 new_graph_1.append([pth[k],pth[k+1]])\n",
    "#print lst_pred\n",
    "#print new_graph_1\n"
   ]
  },
  {
   "cell_type": "code",
   "execution_count": 160,
   "metadata": {
    "collapsed": false
   },
   "outputs": [
    {
     "data": {
      "text/plain": [
       "{0: <matplotlib.text.Text at 0x7f0d3e804810>,\n",
       " 1: <matplotlib.text.Text at 0x7f0d3da26ad0>,\n",
       " 4: <matplotlib.text.Text at 0x7f0d3da26f50>,\n",
       " 5: <matplotlib.text.Text at 0x7f0d3e8043d0>,\n",
       " 10: <matplotlib.text.Text at 0x7f0d3e8000d0>,\n",
       " 11: <matplotlib.text.Text at 0x7f0d3e800510>,\n",
       " 12: <matplotlib.text.Text at 0x7f0d3e800950>,\n",
       " 16: <matplotlib.text.Text at 0x7f0d3e81b210>,\n",
       " 18: <matplotlib.text.Text at 0x7f0d3e81b650>,\n",
       " 19: <matplotlib.text.Text at 0x7f0d3e81ba90>,\n",
       " 21: <matplotlib.text.Text at 0x7f0d3e81bed0>,\n",
       " 44: <matplotlib.text.Text at 0x7f0d3e82c490>,\n",
       " 49: <matplotlib.text.Text at 0x7f0d3e82cd10>,\n",
       " 59: <matplotlib.text.Text at 0x7f0d3e78ba10>,\n",
       " 64: <matplotlib.text.Text at 0x7f0d3e78be50>,\n",
       " 135: <matplotlib.text.Text at 0x7f0d3e804c50>,\n",
       " 143: <matplotlib.text.Text at 0x7f0d3e800d90>,\n",
       " 301: <matplotlib.text.Text at 0x7f0d3e82c8d0>,\n",
       " 546: <matplotlib.text.Text at 0x7f0d3e835790>,\n",
       " 726: <matplotlib.text.Text at 0x7f0d3e796f90>,\n",
       " 737: <matplotlib.text.Text at 0x7f0d3e7a3850>,\n",
       " 849: <matplotlib.text.Text at 0x7f0d3e796710>,\n",
       " 918: <matplotlib.text.Text at 0x7f0d3e835350>,\n",
       " 1024: <matplotlib.text.Text at 0x7f0d3da26690>,\n",
       " 1164: <matplotlib.text.Text at 0x7f0d3e7962d0>,\n",
       " 1191: <matplotlib.text.Text at 0x7f0d3e82c050>,\n",
       " 1401: <matplotlib.text.Text at 0x7f0d3e7a3c90>,\n",
       " 1572: <matplotlib.text.Text at 0x7f0d3e835bd0>,\n",
       " 1619: <matplotlib.text.Text at 0x7f0d3e796b50>,\n",
       " 1719: <matplotlib.text.Text at 0x7f0d3e78b5d0>,\n",
       " 2227: <matplotlib.text.Text at 0x7f0d3e78b190>,\n",
       " 2656: <matplotlib.text.Text at 0x7f0d3e7a3410>}"
      ]
     },
     "execution_count": 160,
     "metadata": {},
     "output_type": "execute_result"
    },
    {
     "data": {
      "image/png": "[encoded data removed]",
      "text/plain": [
       "<matplotlib.figure.Figure at 0x7f0d3f553550>"
      ]
     },
     "metadata": {},
     "output_type": "display_data"
    }
   ],
   "source": [
    "G1=nx.DiGraph()\n",
    "# #print ego_network\n",
    "for edge in new_graph_1:\n",
    "#     #print edge[0], edge[1]\n",
    "     G1.add_edge(edge[0], edge[1])\n",
    "graph_pos = {1:(5,5)}\n",
    "rand_list = random.sample(range(0, 360), 30)\n",
    "count1 = 0\n",
    "count2 = 0\n",
    "# print rand_list\n",
    "# print rand_list[1]\n",
    "# print new_graph_1\n",
    "for i in new_graph_1:\n",
    "    if i[0] == 1:\n",
    "        r=1\n",
    "        ran = random.randint(0,rand_list[count1])\n",
    "        x = r*math.cos(math.radians(ran)) + 5;\n",
    "        y = r*math.sin(math.radians(ran)) + 5;\n",
    "        graph_pos[i[1]] = (x,y)\n",
    "        count1+=1\n",
    "    else:\n",
    "        r=2\n",
    "        ran = random.randint(0,rand_list[count2])\n",
    "        x = r*math.cos(math.radians(ran)) + 5;\n",
    "        y = r*math.sin(math.radians(ran)) + 5;\n",
    "        graph_pos[i[1]] = (x,y)\n",
    "        count2+=1\n",
    "# print G\n",
    "nx.draw_networkx_nodes(G1,graph_pos,node_size=100,\n",
    "                               alpha=0.5, node_color='blue')\n",
    "nx.draw_networkx_edges(G1,graph_pos,edge_color='red', edge_alpha=0.5, width=0.3)\n",
    "nx.draw_networkx_labels(G1, graph_pos,font_size=10)"
   ]
  },
  {
   "cell_type": "code",
   "execution_count": 161,
   "metadata": {
    "collapsed": false
   },
   "outputs": [],
   "source": [
    "def pagerank_csv(node):\n",
    "    personalize1 = {}\n",
    "    for n in G:\n",
    "        if n == node:\n",
    "            personalize1[n] = 1\n",
    "        else:\n",
    "            personalize1[n] = random.random()\n",
    "    #print personalize\n",
    "    p1 = nx.pagerank_scipy(G, alpha=0.9, personalization=personalize1)\n",
    "    sorted_x1 = sorted(p1.items(), key=operator.itemgetter(1),reverse = True)\n",
    "    #print sorted_x\n",
    "    count =0\n",
    "    #print G[1].keys()\n",
    "    lst_pred = []\n",
    "    for x in sorted_x1:\n",
    "        if count > 10:\n",
    "            break\n",
    "        else:\n",
    "            if x[0] not in G[node].keys() and x[0] != node:\n",
    "                #print x[0]\n",
    "                lst_pred.append(x[0])\n",
    "                count +=1\n",
    "    return lst_pred\n",
    "    "
   ]
  },
  {
   "cell_type": "code",
   "execution_count": 162,
   "metadata": {
    "collapsed": false
   },
   "outputs": [
    {
     "name": "stdout",
     "output_type": "stream",
     "text": [
      "0 [737, 401, 550, 725, 1, 726, 1719, 849, 1191, 1164, 1247]\n",
      "1 [18, 737, 135, 726, 1719, 849, 1191, 0, 59, 1164, 143]\n",
      "2 [737, 40, 401, 27, 118, 34, 725, 1, 136, 28, 135]\n",
      "3 [737, 40, 401, 27, 118, 77, 725, 136, 726, 135, 1719]\n",
      "4 [34, 77, 136, 1719, 849, 59, 1191, 1164, 0, 1247, 143]\n",
      "5 [18, 737, 40, 118, 31, 725, 136, 726, 135, 1719, 849]\n",
      "6 [18, 40, 401, 27, 118, 550, 34, 77, 31, 725, 1]\n",
      "7 [18, 737, 401, 27, 118, 34, 550, 31, 725, 1, 136]\n",
      "8 [18, 737, 40, 401, 27, 118, 550, 34, 77, 725, 1]\n",
      "9 [18, 737, 40, 401, 27, 118, 34, 550, 77, 1, 725]\n",
      "10 [737, 40, 118, 34, 77, 725, 136, 28, 135, 726, 1719]\n",
      "11 [737, 118, 77, 725, 28, 135, 726, 1719, 849, 1191, 1164]\n",
      "12 [18, 737, 118, 77, 1, 136, 135, 1719, 849, 1247, 1179]\n",
      "13 [18, 737, 40, 401, 27, 550, 34, 77, 31, 725, 1]\n",
      "14 [18, 737, 40, 27, 401, 118, 550, 34, 77, 31, 725]\n",
      "15 [737, 40, 401, 27, 118, 34, 77, 31, 1, 136, 28]\n",
      "16 [40, 118, 34, 77, 136, 28, 135, 30, 726, 1719, 59]\n",
      "17 [18, 737, 40, 401, 27, 118, 34, 550, 77, 31, 725]\n",
      "18 [737, 40, 401, 27, 550, 34, 77, 725, 31, 1, 28]\n",
      "19 [18, 40, 118, 550, 1, 136, 28, 726, 849, 59, 1191]\n",
      "20 [737, 40, 27, 118, 550, 34, 77, 31, 135, 726, 1719]\n",
      "21 [401, 550, 77, 31, 1, 28, 74, 30, 1719, 1191, 59]\n",
      "22 [18, 737, 40, 118, 550, 77, 725, 1, 136, 135, 28]\n",
      "23 [18, 737, 40, 401, 27, 118, 34, 550, 77, 1, 136]\n",
      "24 [18, 737, 40, 118, 77, 31, 725, 136, 135, 1719, 849]\n",
      "25 [550, 77, 28, 135, 726, 1719, 59, 1247, 143, 1179, 301]\n",
      "26 [737, 118, 77, 1, 725, 136, 28, 135, 1719, 849, 59]\n",
      "27 [118, 1164, 1247, 1619, 2227, 790, 64, 1178, 1606, 1918, 722]\n",
      "28 [18, 737, 118, 34, 31, 1, 136, 135, 726, 1719, 74]\n",
      "29 [18, 737, 40, 118, 725, 136, 135, 1719, 849, 1191, 59]\n",
      "30 [18, 118, 77, 135, 1719, 849, 1164, 143, 1179, 918, 128]\n",
      "31 [737, 40, 118, 77, 136, 28, 726, 1719, 849, 59, 1191]\n",
      "32 [18, 737, 40, 27, 401, 118, 34, 550, 77, 725, 1]\n",
      "33 [726, 1719, 59, 1164, 1247, 19, 918, 301, 418, 1619, 128]\n",
      "34 [18, 737, 40, 118, 550, 725, 136, 135, 28, 726, 1719]\n",
      "35 [18, 737, 40, 27, 118, 34, 77, 1, 136, 135, 726]\n",
      "36 [737, 40, 27, 118, 550, 77, 31, 725, 1, 136, 28]\n",
      "37 [18, 737, 27, 118, 77, 725, 1, 136, 135, 28, 726]\n",
      "38 [18, 737, 40, 401, 27, 118, 34, 77, 1, 725, 136]\n",
      "39 [737, 40, 28, 135, 726, 30, 1719, 59, 849, 1164, 1247]\n",
      "40 [18, 401, 118, 34, 31, 136, 59, 849, 0, 143, 418]\n",
      "41 [18, 737, 40, 401, 27, 118, 34, 77, 31, 725, 1]\n",
      "42 [18, 737, 40, 401, 27, 118, 34, 550, 77, 725, 1]\n",
      "43 [18, 737, 40, 118, 77, 31, 725, 136, 135, 726, 28]\n",
      "44 [1, 30, 1247, 143, 12, 1401, 433, 329, 1178, 35, 381]\n",
      "45 [18, 737, 40, 401, 118, 550, 77, 1, 31, 725, 136]\n",
      "46 [40, 118, 34, 77, 725, 136, 28, 135, 726, 1719, 849]\n",
      "47 [18, 737, 40, 27, 401, 118, 550, 34, 77, 725, 1]\n",
      "48 [18, 27, 118, 77, 725, 136, 28, 135, 849, 1191, 59]\n",
      "49 [40, 118, 550, 77, 31, 725, 1, 136, 28, 135, 726]\n",
      "50 [18, 737, 40, 118, 77, 1, 136, 135, 1719, 59, 849]\n",
      "51 [18, 737, 40, 27, 118, 31, 725, 1, 136, 135, 1719]\n",
      "52 [40, 401, 27, 118, 550, 77, 31, 725, 1, 136, 1719]\n",
      "53 [737, 40, 401, 118, 34, 550, 31, 725, 1, 136, 135]\n",
      "54 [737, 401, 118, 550, 77, 31, 725, 1, 135, 726, 74]\n",
      "55 [18, 737, 40, 27, 118, 550, 77, 31, 725, 1, 136]\n",
      "56 [18, 737, 40, 401, 27, 118, 34, 77, 31, 725, 1]\n",
      "57 [18, 737, 40, 27, 118, 550, 34, 77, 31, 725, 1]\n",
      "58 [34, 725, 31, 136, 1719, 30, 849, 74, 59, 1191, 1164]\n",
      "59 [40, 27, 34, 31, 1, 135, 1719, 74, 849, 1179, 143]\n",
      "60 [18, 737, 27, 118, 34, 77, 1, 136, 135, 1719, 59]\n",
      "61 [18, 737, 118, 136, 849, 1191, 1247, 1179, 19, 143, 301]\n",
      "62 [737, 40, 27, 118, 550, 77, 31, 725, 28, 726, 30]\n",
      "63 [737, 40, 27, 118, 34, 31, 725, 136, 28, 135, 30]\n",
      "64 [40, 401, 27, 550, 34, 77, 31, 725, 1, 136, 28]\n",
      "65 [40, 118, 136, 135, 726, 1719, 1191, 59, 1247, 1179, 918]\n",
      "66 [18, 737, 40, 27, 118, 77, 725, 136, 135, 28, 726]\n",
      "67 [737, 40, 401, 34, 77, 725, 136, 28, 135, 30, 74]\n",
      "68 [737, 118, 77, 31, 725, 136, 135, 28, 726, 1719, 30]\n",
      "69 [18, 737, 118, 550, 77, 31, 1, 135, 726, 30, 1719]\n",
      "70 [18, 737, 40, 401, 118, 34, 550, 77, 31, 725, 1]\n",
      "71 [737, 27, 118, 77, 31, 725, 136, 135, 726, 1719, 74]\n",
      "72 [18, 737, 40, 31, 1, 136, 1719, 849, 1191, 59, 1247]\n",
      "73 [18, 737, 40, 401, 118, 550, 34, 77, 1, 31, 136]\n",
      "74 [18, 27, 34, 136, 135, 726, 849, 59, 1247, 143, 1179]\n",
      "75 [18, 737, 40, 401, 27, 118, 77, 31, 725, 136, 28]\n",
      "76 [18, 737, 27, 118, 550, 77, 31, 725, 136, 1, 135]\n",
      "77 [27, 31, 1, 725, 135, 30, 726, 74, 849, 0, 1164]\n",
      "78 [1719, 1191, 1164, 1247, 143, 12, 1619, 128, 2227, 1401, 1029]\n",
      "79 [40, 118, 31, 1719, 30, 1191, 1164, 1247, 918, 301, 12]\n",
      "80 [18, 737, 401, 27, 118, 550, 34, 77, 31, 725, 1]\n",
      "81 [18, 118, 77, 136, 135, 1719, 849, 59, 1191, 0, 143]\n",
      "82 [737, 40, 401, 118, 34, 77, 31, 725, 135, 1719, 28]\n",
      "83 [737, 118, 77, 725, 136, 28, 135, 726, 59, 1719, 849]\n",
      "84 [18, 737, 40, 27, 401, 118, 550, 34, 77, 31, 725]\n",
      "85 [737, 40, 27, 118, 77, 31, 725, 136, 28, 1719, 726]\n",
      "86 [18, 737, 40, 401, 118, 34, 550, 77, 725, 136, 28]\n",
      "87 [18, 737, 40, 27, 118, 34, 550, 77, 725, 1, 136]\n",
      "88 [118, 77, 725, 1, 136, 28, 726, 1719, 849, 59, 1191]\n",
      "89 [18, 737, 40, 401, 118, 550, 77, 31, 725, 1, 136]\n",
      "90 [40, 27, 118, 136, 135, 28, 1719, 849, 1191, 1247, 1164]\n",
      "91 [737, 40, 401, 27, 118, 550, 31, 725, 28, 135, 726]\n",
      "92 [18, 737, 40, 27, 77, 31, 725, 136, 28, 135, 726]\n",
      "93 [18, 737, 40, 401, 118, 136, 135, 1719, 849, 1191, 59]\n",
      "94 [18, 40, 401, 27, 118, 550, 34, 77, 31, 1, 725]\n",
      "95 [18, 737, 40, 401, 27, 118, 34, 550, 77, 31, 725]\n",
      "96 [737, 40, 34, 550, 31, 135, 726, 849, 1191, 1247, 143]\n",
      "97 [737, 40, 118, 77, 31, 725, 1, 136, 135, 1719, 849]\n",
      "98 [18, 737, 40, 27, 118, 550, 34, 77, 31, 725, 136]\n",
      "99 [737, 40, 401, 27, 118, 34, 550, 77, 31, 1, 725]\n",
      "100 [18, 737, 40, 118, 34, 77, 31, 725, 1, 136, 726]\n"
     ]
    }
   ],
   "source": [
    "count = 0\n",
    "for node in G:\n",
    "    if count>100:\n",
    "        break\n",
    "    else:\n",
    "        preds = pagerank_csv(node)\n",
    "        print node,preds\n",
    "        count+=1"
   ]
  },
  {
   "cell_type": "code",
   "execution_count": 4,
   "metadata": {
    "collapsed": false
   },
   "outputs": [
    {
     "name": "stdout",
     "output_type": "stream",
     "text": [
      "Train(len) : 171448 rows\n",
      "Test(len) : 9044 rows\n"
     ]
    }
   ],
   "source": [
    "def get_splitDF():\n",
    "        global train_DF\n",
    "        global trainDF\n",
    "        global testDF\n",
    "        DF_temp = pd.DataFrame\n",
    "        rand_nos = np.random.rand(len(train_DF)) < 0.95\n",
    "        trainDF = train_DF[rand_nos]\n",
    "        testDF = train_DF[~rand_nos]\n",
    "\n",
    "#         rand_nos = np.random.rand(len(DF_temp)) < 0.6\n",
    "#         testDF = DF_temp[rand_nos]\n",
    "#         evalDF = DF_temp[~rand_nos]\n",
    "\n",
    "        print 'Train(len) : {0} rows'.format(str(len(trainDF)))\n",
    "        print 'Test(len) : {0} rows'.format(str(len(testDF)))\n",
    "        #print 'Eval(len) : {0} rows'.format(str(len(evalDF)))\n",
    "\n",
    "get_splitDF()"
   ]
  },
  {
   "cell_type": "code",
   "execution_count": null,
   "metadata": {
    "collapsed": true
   },
   "outputs": [],
   "source": []
  }
 ],
 "metadata": {
  "kernelspec": {
   "display_name": "Python 2",
   "language": "python",
   "name": "python2"
  },
  "language_info": {
   "codemirror_mode": {
    "name": "ipython",
    "version": 2
   },
   "file_extension": ".py",
   "mimetype": "text/x-python",
   "name": "python",
   "nbconvert_exporter": "python",
   "pygments_lexer": "ipython2",
   "version": "2.7.6"
  }
 },
 "nbformat": 4,
 "nbformat_minor": 0
}
