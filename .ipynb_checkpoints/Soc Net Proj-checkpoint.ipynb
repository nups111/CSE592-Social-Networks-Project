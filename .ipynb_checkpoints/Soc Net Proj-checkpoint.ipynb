{
 "cells": [
  {
   "cell_type": "code",
   "execution_count": 1,
   "metadata": {
    "collapsed": false
   },
   "outputs": [],
   "source": [
    "import pandas as pd\n",
    "import numpy as np\n",
    "import matplotlib.pyplot as plt\n",
    "import csv\n",
    "import re\n",
    "import networkx as nx\n",
    "import operator\n",
    "import random\n",
    "%matplotlib inline"
   ]
  },
  {
   "cell_type": "code",
   "execution_count": 2,
   "metadata": {
    "collapsed": false
   },
   "outputs": [],
   "source": [
    "train_DF = pd.read_csv(\"newdata.csv\", delimiter = \"\\s\")"
   ]
  },
  {
   "cell_type": "code",
   "execution_count": 3,
   "metadata": {
    "collapsed": false
   },
   "outputs": [],
   "source": [
    "train_DF.columns = [\"From_node\", \"To_Node\"]"
   ]
  },
  {
   "cell_type": "code",
   "execution_count": 4,
   "metadata": {
    "collapsed": false
   },
   "outputs": [
    {
     "name": "stdout",
     "output_type": "stream",
     "text": [
      "2 1\n",
      "new\n",
      "3 1\n",
      "new\n",
      "5 1\n",
      "new\n",
      "3 2\n",
      "new\n",
      "5 2\n",
      "new\n",
      "5 3\n",
      "new\n",
      "1 5\n",
      "new\n",
      "3 5\n",
      "new\n"
     ]
    }
   ],
   "source": [
    "G =nx.DiGraph()\n",
    "G.add_node(1)\n",
    "G.add_edge(1,2)\n",
    "G.add_edge(2,5)\n",
    "G.add_edge(1,3)\n",
    "G.add_edge(2,3)\n",
    "x=5\n",
    "for x in G:\n",
    "    for n in G:\n",
    "        if x not in G[n].keys() and x!=n:\n",
    "            print n,x\n",
    "            print \"new\"\n",
    "#for n in G.edge:\n",
    "#    print n\n",
    "#print G.node[1]\n",
    "# if 2 in G:\n",
    "#     print \"yes\"\n",
    "# else:\n",
    "#     print \"no\"\n",
    "#personalize = dict((n, random.random()) for n in G)\n",
    "personalize ={} \n",
    "for n in G:\n",
    "    if n == 1:\n",
    "        personalize[n] = 1\n",
    "    else:\n",
    "        personalize[n] = random.random()\n",
    "#personalize2 = dict[(1,1)\n",
    "# mat = nx.adj_matrix(G)\n",
    "# print mat\n",
    "#print personalize\n",
    "p1 = nx.pagerank_numpy(G, alpha = 0.9)\n",
    "p = nx.pagerank_numpy(G, alpha=0.9, personalization=personalize)\n",
    "#p2 = nx.pagerank_numpy(G, alpha=0.9, personalization=personalize2)\n",
    "#print p,p1\n",
    "#print p2"
   ]
  },
  {
   "cell_type": "code",
   "execution_count": 63,
   "metadata": {
    "collapsed": false
   },
   "outputs": [
    {
     "name": "stdout",
     "output_type": "stream",
     "text": [
      "180492\n"
     ]
    }
   ],
   "source": [
    "print len(train_DF)"
   ]
  },
  {
   "cell_type": "code",
   "execution_count": 64,
   "metadata": {
    "collapsed": false
   },
   "outputs": [],
   "source": [
    "def gen_graph():\n",
    "    gph = []\n",
    "    Gr =nx.DiGraph()\n",
    "    for i in range(len(train_DF)):\n",
    "        node = train_DF[\"From_node\"][i]\n",
    "        if node not in Gr:\n",
    "            Gr.add_node(node)\n",
    "        Gr.add_edge(train_DF[\"From_node\"][i],train_DF[\"To_Node\"][i])\n",
    "    return Gr"
   ]
  },
  {
   "cell_type": "code",
   "execution_count": 65,
   "metadata": {
    "collapsed": false
   },
   "outputs": [
    {
     "name": "stdout",
     "output_type": "stream",
     "text": [
      "  (0, 5)\t1\n",
      "  (0, 7)\t1\n",
      "  (0, 8)\t1\n",
      "  (0, 9)\t1\n",
      "  (0, 10)\t1\n",
      "  (0, 11)\t1\n",
      "  (0, 12)\t1\n",
      "  (0, 13)\t1\n",
      "  (0, 14)\t1\n",
      "  (0, 15)\t1\n",
      "  (0, 16)\t1\n",
      "  (0, 17)\t1\n",
      "  (0, 18)\t1\n",
      "  (0, 19)\t1\n",
      "  (0, 20)\t1\n",
      "  (0, 21)\t1\n",
      "  (0, 22)\t1\n",
      "  (0, 23)\t1\n",
      "  (0, 24)\t1\n",
      "  (0, 25)\t1\n",
      "  (0, 26)\t1\n",
      "  (0, 27)\t1\n",
      "  (0, 28)\t1\n",
      "  (0, 29)\t1\n",
      "  (0, 30)\t1\n",
      "  :\t:\n",
      "  (4988, 722)\t1\n",
      "  (4989, 77)\t1\n",
      "  (4989, 393)\t1\n",
      "  (4989, 440)\t1\n",
      "  (4989, 737)\t1\n",
      "  (4989, 849)\t1\n",
      "  (4989, 1187)\t1\n",
      "  (4990, 77)\t1\n",
      "  (4990, 1258)\t1\n",
      "  (4990, 2549)\t1\n",
      "  (4991, 77)\t1\n",
      "  (4991, 733)\t1\n",
      "  (4991, 918)\t1\n",
      "  (4991, 2460)\t1\n",
      "  (4992, 77)\t1\n",
      "  (4993, 77)\t1\n",
      "  (4994, 77)\t1\n",
      "  (4994, 195)\t1\n",
      "  (4994, 264)\t1\n",
      "  (4994, 725)\t1\n",
      "  (4994, 1168)\t1\n",
      "  (4994, 2410)\t1\n",
      "  (4994, 2562)\t1\n",
      "  (4995, 77)\t1\n",
      "  (4995, 1305)\t1\n"
     ]
    }
   ],
   "source": [
    "grph = gen_graph()\n",
    "#adj = nx.adj_matrix(grph)\n",
    "#print adj"
   ]
  },
  {
   "cell_type": "code",
   "execution_count": 49,
   "metadata": {
    "collapsed": false
   },
   "outputs": [],
   "source": [
    "personalize = dict()\n",
    "t = nx.pagerank(grph,)"
   ]
  },
  {
   "cell_type": "code",
   "execution_count": 50,
   "metadata": {
    "collapsed": false
   },
   "outputs": [],
   "source": [
    "sorted_x = sorted(t.items(), key=operator.itemgetter(1),reverse = True)"
   ]
  },
  {
   "cell_type": "code",
   "execution_count": 59,
   "metadata": {
    "collapsed": false
   },
   "outputs": [
    {
     "name": "stdout",
     "output_type": "stream",
     "text": [
      "[(0, 1), (0, 2), (0, 3), (0, 4), (1, 2), (1, 3), (1, 4), (2, 3), (2, 4), (3, 4)]\n",
      "(0, 1) -> 16\n",
      "(2, 3) -> 16\n",
      "(3, 1) -> 16\n"
     ]
    }
   ],
   "source": [
    "G = nx.complete_graph(5)\n",
    "print G.edges()\n",
    "preds = nx.preferential_attachment(G, [(0, 1), (2, 3),(3,1)])\n",
    "for u, v, p in preds:\n",
    "     print '(%d, %d) -> %d' % (u, v, p)"
   ]
  },
  {
   "cell_type": "code",
   "execution_count": 5,
   "metadata": {
    "collapsed": false
   },
   "outputs": [
    {
     "ename": "NameError",
     "evalue": "global name 'missingValDF' is not defined",
     "output_type": "error",
     "traceback": [
      "\u001b[1;31m---------------------------------------------------------------------------\u001b[0m",
      "\u001b[1;31mNameError\u001b[0m                                 Traceback (most recent call last)",
      "\u001b[1;32m<ipython-input-5-827a26298e5c>\u001b[0m in \u001b[0;36m<module>\u001b[1;34m()\u001b[0m\n\u001b[0;32m     16\u001b[0m         \u001b[1;31m#print 'Eval(len) : {0} rows'.format(str(len(evalDF)))\u001b[0m\u001b[1;33m\u001b[0m\u001b[1;33m\u001b[0m\u001b[0m\n\u001b[0;32m     17\u001b[0m \u001b[1;33m\u001b[0m\u001b[0m\n\u001b[1;32m---> 18\u001b[1;33m \u001b[0mget_splitDF\u001b[0m\u001b[1;33m(\u001b[0m\u001b[1;33m)\u001b[0m\u001b[1;33m\u001b[0m\u001b[0m\n\u001b[0m",
      "\u001b[1;32m<ipython-input-5-827a26298e5c>\u001b[0m in \u001b[0;36mget_splitDF\u001b[1;34m()\u001b[0m\n\u001b[0;32m      5\u001b[0m         \u001b[0mDF_temp\u001b[0m \u001b[1;33m=\u001b[0m \u001b[0mpd\u001b[0m\u001b[1;33m.\u001b[0m\u001b[0mDataFrame\u001b[0m\u001b[1;33m\u001b[0m\u001b[0m\n\u001b[0;32m      6\u001b[0m         \u001b[0mrand_nos\u001b[0m \u001b[1;33m=\u001b[0m \u001b[0mnp\u001b[0m\u001b[1;33m.\u001b[0m\u001b[0mrandom\u001b[0m\u001b[1;33m.\u001b[0m\u001b[0mrand\u001b[0m\u001b[1;33m(\u001b[0m\u001b[0mlen\u001b[0m\u001b[1;33m(\u001b[0m\u001b[0mtrain_DF\u001b[0m\u001b[1;33m)\u001b[0m\u001b[1;33m)\u001b[0m \u001b[1;33m<\u001b[0m \u001b[1;36m0.95\u001b[0m\u001b[1;33m\u001b[0m\u001b[0m\n\u001b[1;32m----> 7\u001b[1;33m         \u001b[0mtrainDF\u001b[0m \u001b[1;33m=\u001b[0m \u001b[0mmissingValDF\u001b[0m\u001b[1;33m[\u001b[0m\u001b[0mrand_nos\u001b[0m\u001b[1;33m]\u001b[0m\u001b[1;33m\u001b[0m\u001b[0m\n\u001b[0m\u001b[0;32m      8\u001b[0m         \u001b[0mtestDF\u001b[0m \u001b[1;33m=\u001b[0m \u001b[0mmissingValDF\u001b[0m\u001b[1;33m[\u001b[0m\u001b[1;33m~\u001b[0m\u001b[0mrand_nos\u001b[0m\u001b[1;33m]\u001b[0m\u001b[1;33m\u001b[0m\u001b[0m\n\u001b[0;32m      9\u001b[0m \u001b[1;33m\u001b[0m\u001b[0m\n",
      "\u001b[1;31mNameError\u001b[0m: global name 'missingValDF' is not defined"
     ]
    }
   ],
   "source": [
    "def get_splitDF():\n",
    "        global train_DF\n",
    "        global trainDF\n",
    "        global testDF\n",
    "        DF_temp = pd.DataFrame\n",
    "        rand_nos = np.random.rand(len(train_DF)) < 0.95\n",
    "        trainDF = missingValDF[rand_nos]\n",
    "        testDF = missingValDF[~rand_nos]\n",
    "\n",
    "#         rand_nos = np.random.rand(len(DF_temp)) < 0.6\n",
    "#         testDF = DF_temp[rand_nos]\n",
    "#         evalDF = DF_temp[~rand_nos]\n",
    "\n",
    "        print 'Train(len) : {0} rows'.format(str(len(trainDF)))\n",
    "        print 'Test(len) : {0} rows'.format(str(len(testDF)))\n",
    "        #print 'Eval(len) : {0} rows'.format(str(len(evalDF)))\n",
    "\n",
    "get_splitDF()"
   ]
  },
  {
   "cell_type": "code",
   "execution_count": null,
   "metadata": {
    "collapsed": true
   },
   "outputs": [],
   "source": []
  }
 ],
 "metadata": {
  "kernelspec": {
   "display_name": "Python 2",
   "language": "python",
   "name": "python2"
  },
  "language_info": {
   "codemirror_mode": {
    "name": "ipython",
    "version": 2
   },
   "file_extension": ".py",
   "mimetype": "text/x-python",
   "name": "python",
   "nbconvert_exporter": "python",
   "pygments_lexer": "ipython2",
   "version": "2.7.6"
  }
 },
 "nbformat": 4,
 "nbformat_minor": 0
}
