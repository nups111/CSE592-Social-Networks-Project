{
 "cells": [
  {
   "cell_type": "markdown",
   "metadata": {},
   "source": [
    "#CSE592 Social Networks Project : LINK PREDICTION IN SOCIAL NETWORKS"
   ]
  },
  {
   "cell_type": "markdown",
   "metadata": {},
   "source": [
    "#### Imports"
   ]
  },
  {
   "cell_type": "code",
   "execution_count": 8,
   "metadata": {
    "collapsed": true
   },
   "outputs": [],
   "source": [
    "import pandas as pd\n",
    "import numpy as np\n",
    "import matplotlib.pyplot as plt\n",
    "import csv\n",
    "import re\n",
    "import networkx as nx\n",
    "import operator\n",
    "import random\n",
    "import math\n",
    "import scipy\n",
    "%matplotlib inline\n",
    "from collections import defaultdict"
   ]
  },
  {
   "cell_type": "markdown",
   "metadata": {},
   "source": [
    "####Original Data"
   ]
  },
  {
   "cell_type": "code",
   "execution_count": 2,
   "metadata": {
    "collapsed": true
   },
   "outputs": [],
   "source": [
    "train_DF = pd.read_csv(\"newdata.csv\", delimiter = \"\\s\")\n",
    "train_DF.columns = [\"From_node\", \"To_node\"]"
   ]
  },
  {
   "cell_type": "markdown",
   "metadata": {},
   "source": [
    "#### Splitting Data in Training and Test : We have divided the original data by taking 95% training and 5% test data"
   ]
  },
  {
   "cell_type": "code",
   "execution_count": 3,
   "metadata": {
    "collapsed": false
   },
   "outputs": [
    {
     "name": "stdout",
     "output_type": "stream",
     "text": [
      "Train(len) : 171454 rows\n",
      "Test(len) : 9038 rows\n"
     ]
    }
   ],
   "source": [
    "def get_splitDF():\n",
    "        global train_DF\n",
    "        global trainDF\n",
    "        global testDF\n",
    "        DF_temp = pd.DataFrame\n",
    "        rand_nos = np.random.rand(len(train_DF)) < 0.95\n",
    "        trainDF = train_DF[rand_nos]\n",
    "        testDF = train_DF[~rand_nos]\n",
    "\n",
    "#         rand_nos = np.random.rand(len(DF_temp)) < 0.6\n",
    "#         testDF = DF_temp[rand_nos]\n",
    "#         evalDF = DF_temp[~rand_nos]\n",
    "\n",
    "        print 'Train(len) : {0} rows'.format(str(len(trainDF)))\n",
    "        print 'Test(len) : {0} rows'.format(str(len(testDF)))\n",
    "        #print 'Eval(len) : {0} rows'.format(str(len(evalDF)))\n",
    "\n",
    "get_splitDF()"
   ]
  },
  {
   "cell_type": "markdown",
   "metadata": {},
   "source": [
    "#### Creating a networkx graph"
   ]
  },
  {
   "cell_type": "code",
   "execution_count": 14,
   "metadata": {
    "collapsed": true
   },
   "outputs": [],
   "source": [
    "def create_graph():\n",
    "    gph = []\n",
    "    for i in range(len(trainDF)):\n",
    "        node1 = trainDF.values[i][0]\n",
    "        node2 = trainDF.values[i][1]\n",
    "        gph.append([node1,node2])\n",
    "    return gph        "
   ]
  },
  {
   "cell_type": "code",
   "execution_count": 15,
   "metadata": {
    "collapsed": true
   },
   "outputs": [],
   "source": [
    "#General function to draw graph\n",
    "def draw_graph(graph, labels=None, graph_layout='shell',\n",
    "               node_size=5000, node_color='red', node_alpha=0.5,\n",
    "               node_text_size=30,\n",
    "               edge_color='blue', edge_alpha=0.3, edge_tickness=0.4,\n",
    "               edge_text_pos=0.3,\n",
    "               text_font='sans-serif'):\n",
    "    fig = plt.figure(figsize=(100,50))\n",
    "    G=nx.Graph()\n",
    "    for edge in graph:\n",
    "        G.add_edge(edge[0], edge[1])\n",
    "    if graph_layout == 'spectral':\n",
    "        graph_pos=nx.spectral_layout(G)\n",
    "    else :\n",
    "        graph_pos=nx.random_layout(G)\n",
    "    nx.draw_networkx_nodes(G,graph_pos,node_size=node_size, \n",
    "                               alpha=node_alpha, node_color=node_color)\n",
    "    nx.draw_networkx_edges(G,graph_pos,width=edge_tickness,\n",
    "                               alpha=edge_alpha,edge_color=edge_color)\n",
    "    if not graph_layout == 'spectral':\n",
    "        nx.draw_networkx_labels(G, graph_pos,font_size=node_text_size,\n",
    "                            font_family=text_font)\n",
    "    plt.show()"
   ]
  },
  {
   "cell_type": "code",
   "execution_count": 16,
   "metadata": {
    "collapsed": true
   },
   "outputs": [],
   "source": [
    "ego_network = create_graph()\n",
    "G=nx.DiGraph()\n",
    "#print ego_network\n",
    "for edge in ego_network:\n",
    "    #print edge[0], edge[1]\n",
    "    G.add_edge(edge[0], edge[1])"
   ]
  },
  {
   "cell_type": "markdown",
   "metadata": {},
   "source": [
    "##Personalized PageRank"
   ]
  },
  {
   "cell_type": "markdown",
   "metadata": {},
   "source": [
    "#### Computing personalized PageRank from a single source node to all the other nodes and ordering them by their pageranks. The top 50 friends are displayed."
   ]
  },
  {
   "cell_type": "code",
   "execution_count": null,
   "metadata": {
    "collapsed": true
   },
   "outputs": [],
   "source": [
    "def pagerank_csv(node,prediction_count):\n",
    "    personalize1 = {}\n",
    "    for n in G:\n",
    "        if n == node:\n",
    "            personalize1[n] = 1\n",
    "        else:\n",
    "            personalize1[n] = 0\n",
    "    #print personalize\n",
    "    p1 = nx.pagerank(G, alpha=0.9, personalization=personalize1)\n",
    "    sorted_x1 = sorted(p1.items(), key=operator.itemgetter(1),reverse = True)\n",
    "    #print sorted_x\n",
    "    count =0\n",
    "    #print G[1].keys()\n",
    "    lst_pred = []\n",
    "    for x in sorted_x1:\n",
    "        if count >= prediction_count:\n",
    "            break\n",
    "        else:\n",
    "            if x[0] not in G[node].keys() and x[0] != node:\n",
    "                #print x[0]\n",
    "                lst_pred.append(x[0])\n",
    "                count +=1\n",
    "    return lst_pred"
   ]
  },
  {
   "cell_type": "markdown",
   "metadata": {},
   "source": [
    "###Predicting the top 1000 friends for the 1st 100 users "
   ]
  },
  {
   "cell_type": "code",
   "execution_count": 56,
   "metadata": {
    "collapsed": false
   },
   "outputs": [],
   "source": [
    "pred_dict = {}\n",
    "count = 0\n",
    "prediction_count = 1000 #Can be changed according to the number of predictions needed.\n",
    "for node in G:\n",
    "    if count>100:\n",
    "        break\n",
    "    else:\n",
    "        preds = pagerank_csv(node,prediction_count)\n",
    "        pred_dict[node] = preds\n",
    "        #print node,preds\n",
    "        count+=1\n",
    "#print pred_dict"
   ]
  },
  {
   "cell_type": "markdown",
   "metadata": {},
   "source": [
    "###Getting the test data and converting it to dict where key = source node and value = list of destination nodes for users till user id = 100"
   ]
  },
  {
   "cell_type": "code",
   "execution_count": 49,
   "metadata": {
    "collapsed": true
   },
   "outputs": [],
   "source": [
    "test_dict = defaultdict(list)\n",
    "count = testDF.values[0][0]\n",
    "for i in range(len(testDF.values)):\n",
    "    if testDF.values[i][0] < 100:\n",
    "        #print count,testDF.values[i][1]\n",
    "        test_dict[testDF.values[i][0]].append(testDF.values[i][1])\n",
    "    else:\n",
    "        break\n",
    "#print dict_list"
   ]
  },
  {
   "cell_type": "markdown",
   "metadata": {},
   "source": [
    "##Calculating the accuracy of the predictions with respect to the test data"
   ]
  },
  {
   "cell_type": "code",
   "execution_count": 52,
   "metadata": {
    "collapsed": false
   },
   "outputs": [],
   "source": [
    "def pred_accuracy():\n",
    "    count = 0 \n",
    "    total_count = 0\n",
    "    for i in test_dict:\n",
    "        test_l = test_dict[i]\n",
    "        pred_l = pred_dict[i]\n",
    "        for j in test_l:\n",
    "            if j in pred_l:\n",
    "                count+=1\n",
    "            total_count+=1\n",
    "    print \"Correct Predictions : \" + str(count)\n",
    "    print \"Total count of friends in test data : \" + str(total_count)\n",
    "    accuracy = count/float(total_count)*100\n",
    "    print \"Accuracy for \" + str(prediction_count) + \"predictions :\"accuracy"
   ]
  },
  {
   "cell_type": "code",
   "execution_count": 53,
   "metadata": {
    "collapsed": false
   },
   "outputs": [
    {
     "name": "stdout",
     "output_type": "stream",
     "text": [
      "215 591\n",
      "36.3790186125\n"
     ]
    }
   ],
   "source": [
    "pred_accuracy()"
   ]
  },
  {
   "cell_type": "code",
   "execution_count": null,
   "metadata": {
    "collapsed": true
   },
   "outputs": [],
   "source": []
  }
 ],
 "metadata": {
  "kernelspec": {
   "display_name": "Python 2",
   "language": "python",
   "name": "python2"
  },
  "language_info": {
   "codemirror_mode": {
    "name": "ipython",
    "version": 2
   },
   "file_extension": ".py",
   "mimetype": "text/x-python",
   "name": "python",
   "nbconvert_exporter": "python",
   "pygments_lexer": "ipython2",
   "version": "2.7.6"
  }
 },
 "nbformat": 4,
 "nbformat_minor": 0
}
